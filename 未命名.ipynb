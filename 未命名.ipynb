{
 "cells": [
  {
   "cell_type": "code",
   "execution_count": 8,
   "metadata": {},
   "outputs": [],
   "source": [
    "import pandas as pd\n",
    "import numpy as np\n",
    "import math\n",
    "from math import log, sqrt, exp\n",
    "from scipy.stats import norm\n",
    "import matplotlib.pyplot as plt\n",
    "\n",
    "\n",
    "def get_option_by_s(ST, X, alpha = 0.3):\n",
    "    \"\"\"\n",
    "    这个期权与股票S的关系，分为三种情况\n",
    "    :param ST: 股票在t=T的时候的价格\n",
    "    :param X: Strike Price\n",
    "    :param alpha: 定价因子alpha，在(0, 1)之间\n",
    "    :return: 返回的是期权的价格\n",
    "    \"\"\"\n",
    "    if alpha * ST >= ST - X >= 0:\n",
    "        option = ST - X\n",
    "    if ST - X > alpha * ST:\n",
    "        option = alpha * ST\n",
    "    if ST - X < 0:\n",
    "        option = 0\n",
    "    return option\n",
    "\n",
    "\n",
    "def Price_by_BT_2(r, sigma, delta, X, S0, h, alpha = 0.3):\n",
    "    \"\"\"\n",
    "    :param r: 无风险利率\n",
    "    :param sigma: 历史波动率\n",
    "    :param delta: 股息dividend\n",
    "    :param X: Strike Price\n",
    "    :param S0: 股票在t=0的价格\n",
    "    :param h: 一次二叉树的时间\n",
    "    :param alpha: 奇异期权的定价因子\n",
    "    :return: 返回的是一个dictionary\n",
    "    \"\"\"\n",
    "\n",
    "    u = math.exp((r-delta) * h + sigma*math.sqrt(h))\n",
    "    d = math.exp((r-delta) * h - sigma*math.sqrt(h))\n",
    "    p = (math.exp((r-delta) * h) - d)/(u-d)\n",
    "    q = 1 - p\n",
    "    uS = u * S0\n",
    "    dS = d * S0\n",
    "    uOp = get_option_by_s(uS, X, alpha)\n",
    "    dOp = get_option_by_s(dS, X, alpha)\n",
    "    sanjiao = math.exp(-delta*h) * (uOp - dOp)/(S0*(u-d))\n",
    "    B = math.exp(-r*h) * (u * dOp - d * uOp)/(u-d)\n",
    "    output_dic = {\"Call_Up\":uOp,\n",
    "                  \"Call_down\":dOp,\n",
    "                  \"Stock_Up\":uS,\n",
    "                  \"Stock_Down\":dS,\n",
    "                  \"Up_factor\":u,\n",
    "                  \"Down_factor\":d,\n",
    "                  \"p_star\":p,\n",
    "                  \"delta\":sanjiao,\n",
    "                  \"B\":B}\n",
    "    return output_dic\n",
    "\n",
    "\n",
    "\n",
    "def Build_Tree_E(n, r, sigma, delta, X, S0, h, alpha):\n",
    "    \"\"\"\n",
    "    欧式期权的二叉树\n",
    "    :param n: 进行n次回归\n",
    "    :param r: 无风险利率\n",
    "    :param sigma: 历史波动率\n",
    "    :param delta: dividend的\n",
    "    :param X: Strike Price\n",
    "    :param S0_P: 之前股票的价格\n",
    "    :param h: 每次二叉树的间隔\n",
    "    :param alpha: 这个是奇异期权的定价中的变量alpha\n",
    "    :return: 返回是一个嵌套list\n",
    "    \"\"\"\n",
    "\n",
    "    stock_matrix = np.zeros((n+1)*(n+1)).reshape(((n+1), (n+1)))\n",
    "    option_matrix = np.zeros((n+1)*(n+1)).reshape(((n+1), (n+1)))\n",
    "    stock_matrix[0, 0] = S0\n",
    "    for j in range(0, n):\n",
    "        for i in range(0, j+1):\n",
    "            S0_P = stock_matrix[i][j]\n",
    "            if j != i:\n",
    "                stock_matrix[i, j+1] = Price_by_BT_2(r, sigma, delta, X, S0_P, h, alpha)[\"Stock_Up\"]\n",
    "            if j == i:\n",
    "                stock_matrix[i, j+1] = Price_by_BT_2(r, sigma, delta, X, S0_P, h, alpha)[\"Stock_Up\"]\n",
    "                stock_matrix[i+1, j+1] = Price_by_BT_2(r, sigma, delta, X, S0_P, h, alpha)[\"Stock_Down\"]\n",
    "    p = Price_by_BT_2(r, sigma, delta, X, S0, h, alpha)[\"p_star\"]\n",
    "    q = 1 - p\n",
    "    for i in range(0, n+1):\n",
    "        option_matrix[i, n] = get_option_by_s(stock_matrix[i, n], X, alpha)\n",
    "    for j in range(n-1, -1, -1):\n",
    "        for i in range(0, j+1):\n",
    "            # print(i, j)\n",
    "            option_matrix[i, j] = p * option_matrix[i, j+1] + q * option_matrix[i+1, j+1]\n",
    "    return option_matrix\n",
    "\n",
    "def Build_Tree_A(n, r, sigma, delta, X, S0, h, alpha):\n",
    "    \"\"\"\n",
    "    美式期权的二叉树\n",
    "    :param n: 进行n次回归\n",
    "    :param r: 无风险利率\n",
    "    :param sigma: 历史波动率\n",
    "    :param delta: dividend的\n",
    "    :param X: Strike Price\n",
    "    :param S0_P: 之前股票的价格\n",
    "    :param h: 每次二叉树的间隔\n",
    "    :param alpha: 这个是奇异期权的定价中的变量alpha\n",
    "    :return: 返回是一个嵌套list\n",
    "    \"\"\"\n",
    "\n",
    "    stock_matrix = np.zeros((n+1)*(n+1)).reshape(((n+1), (n+1)))\n",
    "    option_matrix = np.zeros((n+1)*(n+1)).reshape(((n+1), (n+1)))\n",
    "    stock_matrix[0, 0] = S0\n",
    "    for j in range(0, n):\n",
    "        for i in range(0, j+1):\n",
    "            S0_P = stock_matrix[i][j]\n",
    "            if j != i:\n",
    "                stock_matrix[i, j+1] = Price_by_BT_2(r, sigma, delta, X, S0_P, h, alpha)[\"Stock_Up\"]\n",
    "            if j == i:\n",
    "                stock_matrix[i, j+1] = Price_by_BT_2(r, sigma, delta, X, S0_P, h, alpha)[\"Stock_Up\"]\n",
    "                stock_matrix[i+1, j+1] = Price_by_BT_2(r, sigma, delta, X, S0_P, h, alpha)[\"Stock_Down\"]\n",
    "\n",
    "    p = Price_by_BT_2(r, sigma, delta, X, S0, h, alpha)[\"p_star\"]\n",
    "    q = 1 - p\n",
    "    for i in range(0, n+1):\n",
    "        option_matrix[i, n] = get_option_by_s(stock_matrix[i, n], X, alpha)\n",
    "    for j in range(n-1, -1, -1):\n",
    "        for i in range(0, j+1):\n",
    "            # print(i, j)\n",
    "            price_1 = p * option_matrix[i, j+1] + q * option_matrix[i+1, j+1]\n",
    "            price_2 = get_option_by_s(stock_matrix[i, j], X, alpha)\n",
    "            option_matrix[i, j] = max(price_1, price_2)\n",
    "\n",
    "    return option_matrix\n",
    "\n",
    "def implied_volatility(n, r, delta, X, S0, h, alpha, Callprice_market):\n",
    "    Callprice_tree = 0\n",
    "    err = 0.00001\n",
    "    left = 0\n",
    "    right = 1\n",
    "    sigma = (left+right)/2\n",
    "    while (abs(Callprice_tree - Callprice_market) >= err):\n",
    "        Callprice_tree = Build_Tree_E(n, r, sigma, delta, X, S0, h, alpha)[0, 0]\n",
    "\n",
    "        if Callprice_tree < Callprice_market:\n",
    "            left = sigma\n",
    "            sigma = (sigma + right)/2\n",
    "        elif Callprice_tree >= Callprice_market:\n",
    "            right = sigma\n",
    "            sigma = (sigma + left)/2\n",
    "#         print(abs(Callprice_tree-Callprice_market), Callprice_tree, sigma)\n",
    "    return sigma\n"
   ]
  },
  {
   "cell_type": "markdown",
   "metadata": {},
   "source": [
    "### 3.3 隐含波动率"
   ]
  },
  {
   "cell_type": "code",
   "execution_count": 4,
   "metadata": {},
   "outputs": [
    {
     "name": "stdout",
     "output_type": "stream",
     "text": [
      "0.016276426503731012 0.368915426503731 0.25\n",
      "0.0027372418982565816 0.35537624189825656 0.125\n",
      "0.0007469450283192347 0.35189205497168075 0.1875\n",
      "0.0002975319934452325 0.3529365319934452 0.15625\n",
      "0.00043907860933273257 0.35219992139066725 0.171875\n",
      "0.00012333761261457132 0.3525156623873854 0.1796875\n",
      "1.7819760625759073e-05 0.35265681976062574 0.17578125\n",
      "5.2758590477652856e-05 0.3525862414095223 0.177734375\n",
      "1.746933416763019e-05 0.35262153066583235 0.1787109375\n",
      "1.7523302664468332e-07 0.3526391752330266 0.17822265625\n",
      "隐含波动率 0.17822265625\n"
     ]
    }
   ],
   "source": [
    "n = 100\n",
    "X = 3.2\n",
    "S0 = 3.543\n",
    "Callprice_market = 0.352639\n",
    "T = 1/12\n",
    "h = T/n\n",
    "sigma_h = 0.5375968992057021\n",
    "delta = 0.05/3.5\n",
    "delta = 0\n",
    "alpha = 0.2\n",
    "r = 0.029905\n",
    "\n",
    "\n",
    "sigma_i = implied_volatility(n, r, delta, X, S0, h, alpha, Callprice_market)"
   ]
  },
  {
   "cell_type": "code",
   "execution_count": 5,
   "metadata": {},
   "outputs": [
    {
     "name": "stdout",
     "output_type": "stream",
     "text": [
      "隐含波动率 0.17822265625\n"
     ]
    }
   ],
   "source": [
    "print(\"隐含波动率\", sigma_i)"
   ]
  },
  {
   "cell_type": "markdown",
   "metadata": {},
   "source": [
    "### 3.4. 隐含波动率曲线"
   ]
  },
  {
   "cell_type": "code",
   "execution_count": 12,
   "metadata": {},
   "outputs": [
    {
     "data": {
      "text/plain": [
       "array([3.15      , 3.1510101 , 3.1520202 , 3.1530303 , 3.1540404 ,\n",
       "       3.15505051, 3.15606061, 3.15707071, 3.15808081, 3.15909091,\n",
       "       3.16010101, 3.16111111, 3.16212121, 3.16313131, 3.16414141,\n",
       "       3.16515152, 3.16616162, 3.16717172, 3.16818182, 3.16919192,\n",
       "       3.17020202, 3.17121212, 3.17222222, 3.17323232, 3.17424242,\n",
       "       3.17525253, 3.17626263, 3.17727273, 3.17828283, 3.17929293,\n",
       "       3.18030303, 3.18131313, 3.18232323, 3.18333333, 3.18434343,\n",
       "       3.18535354, 3.18636364, 3.18737374, 3.18838384, 3.18939394,\n",
       "       3.19040404, 3.19141414, 3.19242424, 3.19343434, 3.19444444,\n",
       "       3.19545455, 3.19646465, 3.19747475, 3.19848485, 3.19949495,\n",
       "       3.20050505, 3.20151515, 3.20252525, 3.20353535, 3.20454545,\n",
       "       3.20555556, 3.20656566, 3.20757576, 3.20858586, 3.20959596,\n",
       "       3.21060606, 3.21161616, 3.21262626, 3.21363636, 3.21464646,\n",
       "       3.21565657, 3.21666667, 3.21767677, 3.21868687, 3.21969697,\n",
       "       3.22070707, 3.22171717, 3.22272727, 3.22373737, 3.22474747,\n",
       "       3.22575758, 3.22676768, 3.22777778, 3.22878788, 3.22979798,\n",
       "       3.23080808, 3.23181818, 3.23282828, 3.23383838, 3.23484848,\n",
       "       3.23585859, 3.23686869, 3.23787879, 3.23888889, 3.23989899,\n",
       "       3.24090909, 3.24191919, 3.24292929, 3.24393939, 3.24494949,\n",
       "       3.2459596 , 3.2469697 , 3.2479798 , 3.2489899 , 3.25      ])"
      ]
     },
     "execution_count": 12,
     "metadata": {},
     "output_type": "execute_result"
    }
   ],
   "source": [
    "X = np.linspace(3.15, 3.25, 100)\n",
    "X"
   ]
  },
  {
   "cell_type": "code",
   "execution_count": 13,
   "metadata": {},
   "outputs": [
    {
     "ename": "ZeroDivisionError",
     "evalue": "float division by zero",
     "output_type": "error",
     "traceback": [
      "\u001b[0;31m---------------------------------------------------------------------------\u001b[0m",
      "\u001b[0;31mZeroDivisionError\u001b[0m                         Traceback (most recent call last)",
      "\u001b[0;32m<ipython-input-13-1a66623b4bb8>\u001b[0m in \u001b[0;36m<module>\u001b[0;34m\u001b[0m\n\u001b[1;32m      1\u001b[0m \u001b[0mvolatility_smile\u001b[0m \u001b[0;34m=\u001b[0m \u001b[0;34m[\u001b[0m\u001b[0;34m]\u001b[0m\u001b[0;34m\u001b[0m\u001b[0;34m\u001b[0m\u001b[0m\n\u001b[1;32m      2\u001b[0m \u001b[0;32mfor\u001b[0m \u001b[0mi\u001b[0m \u001b[0;32min\u001b[0m \u001b[0mX\u001b[0m\u001b[0;34m:\u001b[0m\u001b[0;34m\u001b[0m\u001b[0;34m\u001b[0m\u001b[0m\n\u001b[0;32m----> 3\u001b[0;31m     \u001b[0msigma_i\u001b[0m \u001b[0;34m=\u001b[0m \u001b[0mimplied_volatility\u001b[0m\u001b[0;34m(\u001b[0m\u001b[0mn\u001b[0m\u001b[0;34m,\u001b[0m \u001b[0mr\u001b[0m\u001b[0;34m,\u001b[0m \u001b[0mdelta\u001b[0m\u001b[0;34m,\u001b[0m \u001b[0mi\u001b[0m\u001b[0;34m,\u001b[0m \u001b[0mS0\u001b[0m\u001b[0;34m,\u001b[0m \u001b[0mh\u001b[0m\u001b[0;34m,\u001b[0m \u001b[0malpha\u001b[0m\u001b[0;34m,\u001b[0m \u001b[0mCallprice_market\u001b[0m\u001b[0;34m)\u001b[0m\u001b[0;34m\u001b[0m\u001b[0;34m\u001b[0m\u001b[0m\n\u001b[0m\u001b[1;32m      4\u001b[0m     \u001b[0mvolatility_smile\u001b[0m\u001b[0;34m.\u001b[0m\u001b[0mappend\u001b[0m\u001b[0;34m(\u001b[0m\u001b[0msigma_i\u001b[0m\u001b[0;34m)\u001b[0m\u001b[0;34m\u001b[0m\u001b[0;34m\u001b[0m\u001b[0m\n\u001b[1;32m      5\u001b[0m \u001b[0;34m\u001b[0m\u001b[0m\n",
      "\u001b[0;32m<ipython-input-8-91d8bd8e8f37>\u001b[0m in \u001b[0;36mimplied_volatility\u001b[0;34m(n, r, delta, X, S0, h, alpha, Callprice_market)\u001b[0m\n\u001b[1;32m    140\u001b[0m     \u001b[0msigma\u001b[0m \u001b[0;34m=\u001b[0m \u001b[0;34m(\u001b[0m\u001b[0mleft\u001b[0m\u001b[0;34m+\u001b[0m\u001b[0mright\u001b[0m\u001b[0;34m)\u001b[0m\u001b[0;34m/\u001b[0m\u001b[0;36m2\u001b[0m\u001b[0;34m\u001b[0m\u001b[0;34m\u001b[0m\u001b[0m\n\u001b[1;32m    141\u001b[0m     \u001b[0;32mwhile\u001b[0m \u001b[0;34m(\u001b[0m\u001b[0mabs\u001b[0m\u001b[0;34m(\u001b[0m\u001b[0mCallprice_tree\u001b[0m \u001b[0;34m-\u001b[0m \u001b[0mCallprice_market\u001b[0m\u001b[0;34m)\u001b[0m \u001b[0;34m>=\u001b[0m \u001b[0merr\u001b[0m\u001b[0;34m)\u001b[0m\u001b[0;34m:\u001b[0m\u001b[0;34m\u001b[0m\u001b[0;34m\u001b[0m\u001b[0m\n\u001b[0;32m--> 142\u001b[0;31m         \u001b[0mCallprice_tree\u001b[0m \u001b[0;34m=\u001b[0m \u001b[0mBuild_Tree_E\u001b[0m\u001b[0;34m(\u001b[0m\u001b[0mn\u001b[0m\u001b[0;34m,\u001b[0m \u001b[0mr\u001b[0m\u001b[0;34m,\u001b[0m \u001b[0msigma\u001b[0m\u001b[0;34m,\u001b[0m \u001b[0mdelta\u001b[0m\u001b[0;34m,\u001b[0m \u001b[0mX\u001b[0m\u001b[0;34m,\u001b[0m \u001b[0mS0\u001b[0m\u001b[0;34m,\u001b[0m \u001b[0mh\u001b[0m\u001b[0;34m,\u001b[0m \u001b[0malpha\u001b[0m\u001b[0;34m)\u001b[0m\u001b[0;34m[\u001b[0m\u001b[0;36m0\u001b[0m\u001b[0;34m,\u001b[0m \u001b[0;36m0\u001b[0m\u001b[0;34m]\u001b[0m\u001b[0;34m\u001b[0m\u001b[0;34m\u001b[0m\u001b[0m\n\u001b[0m\u001b[1;32m    143\u001b[0m \u001b[0;34m\u001b[0m\u001b[0m\n\u001b[1;32m    144\u001b[0m         \u001b[0;32mif\u001b[0m \u001b[0mCallprice_tree\u001b[0m \u001b[0;34m<\u001b[0m \u001b[0mCallprice_market\u001b[0m\u001b[0;34m:\u001b[0m\u001b[0;34m\u001b[0m\u001b[0;34m\u001b[0m\u001b[0m\n",
      "\u001b[0;32m<ipython-input-8-91d8bd8e8f37>\u001b[0m in \u001b[0;36mBuild_Tree_E\u001b[0;34m(n, r, sigma, delta, X, S0, h, alpha)\u001b[0m\n\u001b[1;32m     82\u001b[0m                 \u001b[0mstock_matrix\u001b[0m\u001b[0;34m[\u001b[0m\u001b[0mi\u001b[0m\u001b[0;34m,\u001b[0m \u001b[0mj\u001b[0m\u001b[0;34m+\u001b[0m\u001b[0;36m1\u001b[0m\u001b[0;34m]\u001b[0m \u001b[0;34m=\u001b[0m \u001b[0mPrice_by_BT_2\u001b[0m\u001b[0;34m(\u001b[0m\u001b[0mr\u001b[0m\u001b[0;34m,\u001b[0m \u001b[0msigma\u001b[0m\u001b[0;34m,\u001b[0m \u001b[0mdelta\u001b[0m\u001b[0;34m,\u001b[0m \u001b[0mX\u001b[0m\u001b[0;34m,\u001b[0m \u001b[0mS0_P\u001b[0m\u001b[0;34m,\u001b[0m \u001b[0mh\u001b[0m\u001b[0;34m,\u001b[0m \u001b[0malpha\u001b[0m\u001b[0;34m)\u001b[0m\u001b[0;34m[\u001b[0m\u001b[0;34m\"Stock_Up\"\u001b[0m\u001b[0;34m]\u001b[0m\u001b[0;34m\u001b[0m\u001b[0;34m\u001b[0m\u001b[0m\n\u001b[1;32m     83\u001b[0m             \u001b[0;32mif\u001b[0m \u001b[0mj\u001b[0m \u001b[0;34m==\u001b[0m \u001b[0mi\u001b[0m\u001b[0;34m:\u001b[0m\u001b[0;34m\u001b[0m\u001b[0;34m\u001b[0m\u001b[0m\n\u001b[0;32m---> 84\u001b[0;31m                 \u001b[0mstock_matrix\u001b[0m\u001b[0;34m[\u001b[0m\u001b[0mi\u001b[0m\u001b[0;34m,\u001b[0m \u001b[0mj\u001b[0m\u001b[0;34m+\u001b[0m\u001b[0;36m1\u001b[0m\u001b[0;34m]\u001b[0m \u001b[0;34m=\u001b[0m \u001b[0mPrice_by_BT_2\u001b[0m\u001b[0;34m(\u001b[0m\u001b[0mr\u001b[0m\u001b[0;34m,\u001b[0m \u001b[0msigma\u001b[0m\u001b[0;34m,\u001b[0m \u001b[0mdelta\u001b[0m\u001b[0;34m,\u001b[0m \u001b[0mX\u001b[0m\u001b[0;34m,\u001b[0m \u001b[0mS0_P\u001b[0m\u001b[0;34m,\u001b[0m \u001b[0mh\u001b[0m\u001b[0;34m,\u001b[0m \u001b[0malpha\u001b[0m\u001b[0;34m)\u001b[0m\u001b[0;34m[\u001b[0m\u001b[0;34m\"Stock_Up\"\u001b[0m\u001b[0;34m]\u001b[0m\u001b[0;34m\u001b[0m\u001b[0;34m\u001b[0m\u001b[0m\n\u001b[0m\u001b[1;32m     85\u001b[0m                 \u001b[0mstock_matrix\u001b[0m\u001b[0;34m[\u001b[0m\u001b[0mi\u001b[0m\u001b[0;34m+\u001b[0m\u001b[0;36m1\u001b[0m\u001b[0;34m,\u001b[0m \u001b[0mj\u001b[0m\u001b[0;34m+\u001b[0m\u001b[0;36m1\u001b[0m\u001b[0;34m]\u001b[0m \u001b[0;34m=\u001b[0m \u001b[0mPrice_by_BT_2\u001b[0m\u001b[0;34m(\u001b[0m\u001b[0mr\u001b[0m\u001b[0;34m,\u001b[0m \u001b[0msigma\u001b[0m\u001b[0;34m,\u001b[0m \u001b[0mdelta\u001b[0m\u001b[0;34m,\u001b[0m \u001b[0mX\u001b[0m\u001b[0;34m,\u001b[0m \u001b[0mS0_P\u001b[0m\u001b[0;34m,\u001b[0m \u001b[0mh\u001b[0m\u001b[0;34m,\u001b[0m \u001b[0malpha\u001b[0m\u001b[0;34m)\u001b[0m\u001b[0;34m[\u001b[0m\u001b[0;34m\"Stock_Down\"\u001b[0m\u001b[0;34m]\u001b[0m\u001b[0;34m\u001b[0m\u001b[0;34m\u001b[0m\u001b[0m\n\u001b[1;32m     86\u001b[0m     \u001b[0mp\u001b[0m \u001b[0;34m=\u001b[0m \u001b[0mPrice_by_BT_2\u001b[0m\u001b[0;34m(\u001b[0m\u001b[0mr\u001b[0m\u001b[0;34m,\u001b[0m \u001b[0msigma\u001b[0m\u001b[0;34m,\u001b[0m \u001b[0mdelta\u001b[0m\u001b[0;34m,\u001b[0m \u001b[0mX\u001b[0m\u001b[0;34m,\u001b[0m \u001b[0mS0\u001b[0m\u001b[0;34m,\u001b[0m \u001b[0mh\u001b[0m\u001b[0;34m,\u001b[0m \u001b[0malpha\u001b[0m\u001b[0;34m)\u001b[0m\u001b[0;34m[\u001b[0m\u001b[0;34m\"p_star\"\u001b[0m\u001b[0;34m]\u001b[0m\u001b[0;34m\u001b[0m\u001b[0;34m\u001b[0m\u001b[0m\n",
      "\u001b[0;32m<ipython-input-8-91d8bd8e8f37>\u001b[0m in \u001b[0;36mPrice_by_BT_2\u001b[0;34m(r, sigma, delta, X, S0, h, alpha)\u001b[0m\n\u001b[1;32m     38\u001b[0m     \u001b[0mu\u001b[0m \u001b[0;34m=\u001b[0m \u001b[0mmath\u001b[0m\u001b[0;34m.\u001b[0m\u001b[0mexp\u001b[0m\u001b[0;34m(\u001b[0m\u001b[0;34m(\u001b[0m\u001b[0mr\u001b[0m\u001b[0;34m-\u001b[0m\u001b[0mdelta\u001b[0m\u001b[0;34m)\u001b[0m \u001b[0;34m*\u001b[0m \u001b[0mh\u001b[0m \u001b[0;34m+\u001b[0m \u001b[0msigma\u001b[0m\u001b[0;34m*\u001b[0m\u001b[0mmath\u001b[0m\u001b[0;34m.\u001b[0m\u001b[0msqrt\u001b[0m\u001b[0;34m(\u001b[0m\u001b[0mh\u001b[0m\u001b[0;34m)\u001b[0m\u001b[0;34m)\u001b[0m\u001b[0;34m\u001b[0m\u001b[0;34m\u001b[0m\u001b[0m\n\u001b[1;32m     39\u001b[0m     \u001b[0md\u001b[0m \u001b[0;34m=\u001b[0m \u001b[0mmath\u001b[0m\u001b[0;34m.\u001b[0m\u001b[0mexp\u001b[0m\u001b[0;34m(\u001b[0m\u001b[0;34m(\u001b[0m\u001b[0mr\u001b[0m\u001b[0;34m-\u001b[0m\u001b[0mdelta\u001b[0m\u001b[0;34m)\u001b[0m \u001b[0;34m*\u001b[0m \u001b[0mh\u001b[0m \u001b[0;34m-\u001b[0m \u001b[0msigma\u001b[0m\u001b[0;34m*\u001b[0m\u001b[0mmath\u001b[0m\u001b[0;34m.\u001b[0m\u001b[0msqrt\u001b[0m\u001b[0;34m(\u001b[0m\u001b[0mh\u001b[0m\u001b[0;34m)\u001b[0m\u001b[0;34m)\u001b[0m\u001b[0;34m\u001b[0m\u001b[0;34m\u001b[0m\u001b[0m\n\u001b[0;32m---> 40\u001b[0;31m     \u001b[0mp\u001b[0m \u001b[0;34m=\u001b[0m \u001b[0;34m(\u001b[0m\u001b[0mmath\u001b[0m\u001b[0;34m.\u001b[0m\u001b[0mexp\u001b[0m\u001b[0;34m(\u001b[0m\u001b[0;34m(\u001b[0m\u001b[0mr\u001b[0m\u001b[0;34m-\u001b[0m\u001b[0mdelta\u001b[0m\u001b[0;34m)\u001b[0m \u001b[0;34m*\u001b[0m \u001b[0mh\u001b[0m\u001b[0;34m)\u001b[0m \u001b[0;34m-\u001b[0m \u001b[0md\u001b[0m\u001b[0;34m)\u001b[0m\u001b[0;34m/\u001b[0m\u001b[0;34m(\u001b[0m\u001b[0mu\u001b[0m\u001b[0;34m-\u001b[0m\u001b[0md\u001b[0m\u001b[0;34m)\u001b[0m\u001b[0;34m\u001b[0m\u001b[0;34m\u001b[0m\u001b[0m\n\u001b[0m\u001b[1;32m     41\u001b[0m     \u001b[0mq\u001b[0m \u001b[0;34m=\u001b[0m \u001b[0;36m1\u001b[0m \u001b[0;34m-\u001b[0m \u001b[0mp\u001b[0m\u001b[0;34m\u001b[0m\u001b[0;34m\u001b[0m\u001b[0m\n\u001b[1;32m     42\u001b[0m     \u001b[0muS\u001b[0m \u001b[0;34m=\u001b[0m \u001b[0mu\u001b[0m \u001b[0;34m*\u001b[0m \u001b[0mS0\u001b[0m\u001b[0;34m\u001b[0m\u001b[0;34m\u001b[0m\u001b[0m\n",
      "\u001b[0;31mZeroDivisionError\u001b[0m: float division by zero"
     ]
    }
   ],
   "source": [
    "volatility_smile = []\n",
    "for i in X:\n",
    "    sigma_i = implied_volatility(n, r, delta, i, S0, h, alpha, Callprice_market)\n",
    "    volatility_smile.append(sigma_i)\n",
    "\n",
    "    \n",
    "plt.plot(X, volatility_smile)"
   ]
  },
  {
   "cell_type": "code",
   "execution_count": null,
   "metadata": {},
   "outputs": [],
   "source": []
  }
 ],
 "metadata": {
  "kernelspec": {
   "display_name": "Python 3",
   "language": "python",
   "name": "python3"
  },
  "language_info": {
   "codemirror_mode": {
    "name": "ipython",
    "version": 3
   },
   "file_extension": ".py",
   "mimetype": "text/x-python",
   "name": "python",
   "nbconvert_exporter": "python",
   "pygments_lexer": "ipython3",
   "version": "3.8.3"
  }
 },
 "nbformat": 4,
 "nbformat_minor": 4
}
